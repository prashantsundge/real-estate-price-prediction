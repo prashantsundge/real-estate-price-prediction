{
 "cells": [
  {
   "cell_type": "code",
   "execution_count": 1,
   "id": "873ff511",
   "metadata": {},
   "outputs": [],
   "source": [
    "import pandas as pd"
   ]
  },
  {
   "cell_type": "code",
   "execution_count": 2,
   "id": "d3f203b9",
   "metadata": {},
   "outputs": [],
   "source": [
    "df= pd.read_csv(\"data/processed/clean_df.csv\")"
   ]
  },
  {
   "cell_type": "markdown",
   "id": "e7068a4e",
   "metadata": {},
   "source": [
    "#### IQR METHOD"
   ]
  },
  {
   "cell_type": "code",
   "execution_count": null,
   "id": "c40b1dbc",
   "metadata": {},
   "outputs": [],
   "source": [
    "def remove_outliers_iqr(df, column):\n",
    "    Q1 =df[column].quantile(0.25)\n",
    "    Q3 =df[column].quantile(0.75)\n",
    "    IQR = Q3 - Q1\n",
    "    lower = Q1 - 1.5 * IQR\n",
    "    upper = Q3 + 1.5 * IQR\n",
    "\n",
    "    return df[(df[column] >=lower) & (df[column] <= upper)]\n",
    "\n",
    "df = remove_outliers_iqr(df, \"Price_INR_Numeric\")\n",
    "df = remove_outliers_iqr(df, \"Total Area\")\n",
    "\n",
    "print(f\"Cleaned Dataset Shape : {df.shape}\")\n",
    "    "
   ]
  },
  {
   "cell_type": "code",
   "execution_count": null,
   "id": "acc3f43a",
   "metadata": {},
   "outputs": [],
   "source": []
  }
 ],
 "metadata": {
  "kernelspec": {
   "display_name": "venv (3.10.9)",
   "language": "python",
   "name": "python3"
  },
  "language_info": {
   "codemirror_mode": {
    "name": "ipython",
    "version": 3
   },
   "file_extension": ".py",
   "mimetype": "text/x-python",
   "name": "python",
   "nbconvert_exporter": "python",
   "pygments_lexer": "ipython3",
   "version": "3.10.9"
  }
 },
 "nbformat": 4,
 "nbformat_minor": 5
}
